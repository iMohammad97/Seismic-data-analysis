{
  "nbformat": 4,
  "nbformat_minor": 0,
  "metadata": {
    "colab": {
      "provenance": []
    },
    "kernelspec": {
      "name": "python3",
      "display_name": "Python 3"
    },
    "language_info": {
      "name": "python"
    }
  },
  "cells": [
    {
      "cell_type": "markdown",
      "source": [
        "The First table categorizes areas based on a certain ratio (presumably seismic risk).\n",
        "\n",
        "First we want to input the description and get the corresponding ratio as output.\n",
        "\n",
        "We will define a function for this purpose:"
      ],
      "metadata": {
        "id": "2PTgtt98kExo"
      }
    },
    {
      "cell_type": "code",
      "source": [
        "def get_ratio(description):\n",
        "    ratios = {\n",
        "        \"پهنه با خطر نسبی خیلی زیاد\": 0.35,\n",
        "        \"پهنه با خطر نسبی زیاد\": 0.30,\n",
        "        \"پهنه با خطر نسبی متوسط\": 0.25,\n",
        "        \"پهنه با خطر نسبی کم\": 0.20\n",
        "    }\n",
        "    return ratios.get(description, \"Description not found\")\n"
      ],
      "metadata": {
        "id": "a-sCCoMhj4Ec"
      },
      "execution_count": 1,
      "outputs": []
    },
    {
      "cell_type": "markdown",
      "source": [
        "The second table maps building classifications to their importance coefficients.\n",
        "\n",
        "We want to input the building classification and get the corresponding importance coefficient as output.\n",
        "\n",
        "We will define a function for this purpose:"
      ],
      "metadata": {
        "id": "K02Exxv1j9DR"
      }
    },
    {
      "cell_type": "code",
      "source": [
        "def get_importance_coefficient(classification):\n",
        "    coefficients = {\n",
        "        \"گروه 1\": 1.4,\n",
        "        \"گروه 2\": 1.2,\n",
        "        \"گروه 3\": 1.0,\n",
        "        \"گروه 4\": 0.8\n",
        "    }\n",
        "    return coefficients.get(classification, \"Classification not found\")\n"
      ],
      "metadata": {
        "id": "kRvoQISckB3g"
      },
      "execution_count": 2,
      "outputs": []
    },
    {
      "cell_type": "markdown",
      "source": [
        "The third table provides parameters based on the type of soil and the level of seismic risk.\n",
        "\n",
        "First, we will define a function to get the $T_S$ and $T_0$ values based on the type of soil. Then, we will define another function to get the $S$ and $S_0$ values based on the type of soil and the seismic risk level."
      ],
      "metadata": {
        "id": "VPsoId0BkNlQ"
      }
    },
    {
      "cell_type": "code",
      "source": [
        "def get_soil_parameters(soil_type):\n",
        "    soil_parameters = {\n",
        "        \"I\": {\"Ts\": 0.4, \"T0\": 0.1},\n",
        "        \"II\": {\"Ts\": 0.5, \"T0\": 0.15},\n",
        "        \"III\": {\"Ts\": 0.7, \"T0\": 0.2},\n",
        "        \"IV\": {\"Ts\": 1.0, \"T0\": 0.3}\n",
        "    }\n",
        "    return soil_parameters.get(soil_type, \"Soil type not found\")\n",
        "\n",
        "def get_seismic_parameters(soil_type, seismic_risk):\n",
        "    seismic_parameters = {\n",
        "        \"I\": {\"low_medium\": {\"S0\": 1, \"S\": 1.25}, \"high_very_high\": {\"S0\": 1, \"S\": 1.25}},\n",
        "        \"II\": {\"low_medium\": {\"S0\": 1, \"S\": 1.25}, \"high_very_high\": {\"S0\": 1, \"S\": 1.25}},\n",
        "        \"III\": {\"low_medium\": {\"S0\": 1, \"S\": 1.25}, \"high_very_high\": {\"S0\": 1, \"S\": 1.5}},\n",
        "        \"IV\": {\"low_medium\": {\"S0\": 1.3, \"S\": 1.75}, \"high_very_high\": {\"S0\": 1.1, \"S\": 2.25}}\n",
        "    }\n",
        "    if soil_type in seismic_parameters:\n",
        "        return seismic_parameters[soil_type].get(seismic_risk, \"Seismic risk level not found\")\n",
        "    else:\n",
        "        return \"Soil type not found\"\n",
        "\n",
        "# Example usage:\n",
        "soil_type = \"III\"  # Example input\n",
        "seismic_risk = \"high_very_high\"  # Example input\n",
        "\n",
        "soil_params = get_soil_parameters(soil_type)\n",
        "seismic_params = get_seismic_parameters(soil_type, seismic_risk)\n",
        "\n",
        "print(\"Soil Parameters:\", soil_params)\n",
        "print(\"Seismic Parameters:\", seismic_params)\n"
      ],
      "metadata": {
        "colab": {
          "base_uri": "https://localhost:8080/"
        },
        "id": "eXHz7duik7GF",
        "outputId": "8d8d4abc-099a-425f-fe19-ff3cb04548a2"
      },
      "execution_count": 3,
      "outputs": [
        {
          "output_type": "stream",
          "name": "stdout",
          "text": [
            "Soil Parameters: {'Ts': 0.7, 'T0': 0.2}\n",
            "Seismic Parameters: {'S0': 1, 'S': 1.5}\n"
          ]
        }
      ]
    },
    {
      "cell_type": "markdown",
      "source": [
        "To calculate the building response coefficient $B$, we need to follow the steps mentioned in the image. Our outline of work will be as below:\n",
        "\n",
        "1.  Get the soil type and the corresponding parameters $T_S$ and$T_0$.\n",
        "2.  Get the seismic risk level and the corresponding parameters $S$ and $S_0$.\n",
        "3.  Compare the provided $T$ value with $T_0$ and $T_S$ to determine $B_1$.\n",
        "4.  Finally, compute $B$ using $B = B_1 ⋅ N$."
      ],
      "metadata": {
        "id": "kmN3k_dprKQv"
      }
    },
    {
      "cell_type": "markdown",
      "source": [
        "**Step 1: Define the function to get soil parameters**"
      ],
      "metadata": {
        "id": "O0QN2pYJr0J2"
      }
    },
    {
      "cell_type": "code",
      "source": [
        "def get_soil_parameters(soil_type):\n",
        "    soil_parameters = {\n",
        "        \"I\": {\"Ts\": 0.4, \"T0\": 0.1},\n",
        "        \"II\": {\"Ts\": 0.5, \"T0\": 0.15},\n",
        "        \"III\": {\"Ts\": 0.7, \"T0\": 0.2},\n",
        "        \"IV\": {\"Ts\": 1.0, \"T0\": 0.3}\n",
        "    }\n",
        "    return soil_parameters.get(soil_type, \"Soil type not found\")\n"
      ],
      "metadata": {
        "id": "8H4wnHJnk_Us"
      },
      "execution_count": 4,
      "outputs": []
    },
    {
      "cell_type": "markdown",
      "source": [
        "**Step 2: Define the function to get seismic parameters**"
      ],
      "metadata": {
        "id": "lPVTl2L1r2xK"
      }
    },
    {
      "cell_type": "code",
      "source": [
        "def get_seismic_parameters(soil_type, seismic_risk):\n",
        "    seismic_parameters = {\n",
        "        \"I\": {\"low_medium\": {\"S0\": 1, \"S\": 1.25}, \"high_very_high\": {\"S0\": 1, \"S\": 1.25}},\n",
        "        \"II\": {\"low_medium\": {\"S0\": 1, \"S\": 1.25}, \"high_very_high\": {\"S0\": 1, \"S\": 1.25}},\n",
        "        \"III\": {\"low_medium\": {\"S0\": 1, \"S\": 1.25}, \"high_very_high\": {\"S0\": 1, \"S\": 1.5}},\n",
        "        \"IV\": {\"low_medium\": {\"S0\": 1.3, \"S\": 1.75}, \"high_very_high\": {\"S0\": 1.1, \"S\": 2.25}}\n",
        "    }\n",
        "    if soil_type in seismic_parameters:\n",
        "        return seismic_parameters[soil_type].get(seismic_risk, \"Seismic risk level not found\")\n",
        "    else:\n",
        "        return \"Soil type not found\"\n"
      ],
      "metadata": {
        "id": "oyFcTMqRr5rm"
      },
      "execution_count": 5,
      "outputs": []
    },
    {
      "cell_type": "markdown",
      "source": [
        "**Step 3: Define the function to compute $B_1$**"
      ],
      "metadata": {
        "id": "0wO9CIuAr5U6"
      }
    },
    {
      "cell_type": "code",
      "source": [
        "def compute_B1(T, T0, Ts, S0, S):\n",
        "    if 0 < T <= T0:\n",
        "        B1 = S0 + (S - S0 + 1) * (T / T0)\n",
        "    elif T0 < T <= Ts:\n",
        "        B1 = S + 1\n",
        "    elif T > Ts:\n",
        "        B1 = (S + 1) * (Ts / T)\n",
        "    return B1\n"
      ],
      "metadata": {
        "id": "O20HVb2tsEZ-"
      },
      "execution_count": 6,
      "outputs": []
    },
    {
      "cell_type": "markdown",
      "source": [
        "**Step 4: Define the main function to compute $B$**"
      ],
      "metadata": {
        "id": "3K-EV2WqsFI3"
      }
    },
    {
      "cell_type": "code",
      "source": [
        "def compute_B(T, N, soil_type, seismic_risk):\n",
        "    soil_params = get_soil_parameters(soil_type)\n",
        "    if soil_params == \"Soil type not found\":\n",
        "        return soil_params\n",
        "\n",
        "    seismic_params = get_seismic_parameters(soil_type, seismic_risk)\n",
        "    if seismic_params == \"Seismic risk level not found\":\n",
        "        return seismic_params\n",
        "\n",
        "    T0 = soil_params[\"T0\"]\n",
        "    Ts = soil_params[\"Ts\"]\n",
        "    S0 = seismic_params[\"S0\"]\n",
        "    S = seismic_params[\"S\"]\n",
        "\n",
        "    B1 = compute_B1(T, T0, Ts, S0, S)\n",
        "    B = B1 * N\n",
        "\n",
        "    return B\n"
      ],
      "metadata": {
        "id": "Sbzdiuy_sLaO"
      },
      "execution_count": 7,
      "outputs": []
    },
    {
      "cell_type": "code",
      "source": [
        "# Example usage\n",
        "# With example inputs\n",
        "T = 0.25  # Example input for T\n",
        "N = 1.2  # Example input for N\n",
        "soil_type = \"III\"  # Example input for soil type\n",
        "seismic_risk = \"high_very_high\"  # Example input for seismic risk level\n",
        "\n",
        "# Compute B\n",
        "B = compute_B(T, N, soil_type, seismic_risk)\n",
        "print(\"B:\", B)\n"
      ],
      "metadata": {
        "colab": {
          "base_uri": "https://localhost:8080/"
        },
        "id": "CSxolIGlsNXW",
        "outputId": "29ff33df-8024-4d11-d5fa-fd235879cc6e"
      },
      "execution_count": 8,
      "outputs": [
        {
          "output_type": "stream",
          "name": "stdout",
          "text": [
            "B: 3.0\n"
          ]
        }
      ]
    },
    {
      "cell_type": "markdown",
      "source": [
        "Now to generate the requested graphs for each soil type and save the $B_1$ and $T$ values in separate CSV files, we need to iterate through each soil type, compute the $B_1$ values for a range of $T$ values, and plot the results. Then, we'll save the data in CSV format.\n",
        "\n"
      ],
      "metadata": {
        "id": "I8LGU6JquJgr"
      }
    },
    {
      "cell_type": "code",
      "source": [
        "import numpy as np\n",
        "import matplotlib.pyplot as plt\n",
        "import pandas as pd\n",
        "\n",
        "def compute_B1_for_T_range(T_values, T0, Ts, S0, S):\n",
        "    B1_values = []\n",
        "    for T in T_values:\n",
        "        if 0 < T <= T0:\n",
        "            B1 = S0 + (S - S0 + 1) * (T / T0)\n",
        "        elif T0 < T <= Ts:\n",
        "            B1 = S + 1\n",
        "        elif T > Ts:\n",
        "            B1 = (S + 1) * (Ts / T)\n",
        "        B1_values.append(B1)\n",
        "    return B1_values\n",
        "\n",
        "# Example parameters for each soil type\n",
        "soil_types = {\n",
        "    \"I\": {\"T0\": 0.1, \"Ts\": 0.4, \"S0\": 1.0, \"S\": 1.25},\n",
        "    \"II\": {\"T0\": 0.15, \"Ts\": 0.5, \"S0\": 1.0, \"S\": 1.25},\n",
        "    \"III\": {\"T0\": 0.2, \"Ts\": 0.7, \"S0\": 1.0, \"S\": 1.5},\n",
        "    \"IV\": {\"T0\": 0.3, \"Ts\": 1.0, \"S0\": 1.3, \"S\": 1.75}\n",
        "}\n",
        "\n",
        "# Range of T values\n",
        "T_values = np.linspace(0.01, 4.5, 500)  # Avoid zero to prevent division by zero\n",
        "\n",
        "# Plotting and saving the data\n",
        "for soil_type, params in soil_types.items():\n",
        "    T0 = params[\"T0\"]\n",
        "    Ts = params[\"Ts\"]\n",
        "    S0 = params[\"S0\"]\n",
        "    S = params[\"S\"]\n",
        "\n",
        "    # Compute B1 values\n",
        "    B1_values = compute_B1_for_T_range(T_values, T0, Ts, S0, S)\n",
        "\n",
        "    # Save to CSV\n",
        "    df = pd.DataFrame({\"T\": T_values, \"B1\": B1_values})\n",
        "    df.to_csv(f\"B1_T_values_soil_{soil_type}.csv\", index=False)\n",
        "\n",
        "    # Plotting the graph\n",
        "    plt.plot(T_values, B1_values, label=f\"Soil type {soil_type}\")\n",
        "\n",
        "plt.xlabel(\"T (sec)\")\n",
        "plt.ylabel(\"B1\")\n",
        "plt.title(\"Spectrul graph\")\n",
        "plt.legend()\n",
        "plt.grid(True)\n",
        "plt.show()\n"
      ],
      "metadata": {
        "colab": {
          "base_uri": "https://localhost:8080/",
          "height": 472
        },
        "id": "wkwYlwGAuVkc",
        "outputId": "019d4440-c6e2-4f50-942c-e00551f354cb"
      },
      "execution_count": 10,
      "outputs": [
        {
          "output_type": "display_data",
          "data": {
            "text/plain": [
              "<Figure size 640x480 with 1 Axes>"
            ],
            "image/png": "[encoded data removed]"
          },
          "metadata": {}
        }
      ]
    }
  ]
}